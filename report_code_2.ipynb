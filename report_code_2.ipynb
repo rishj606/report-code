{
  "nbformat": 4,
  "nbformat_minor": 0,
  "metadata": {
    "colab": {
      "name": "report code 2.ipynb",
      "provenance": [],
      "collapsed_sections": []
    },
    "kernelspec": {
      "name": "python3",
      "display_name": "Python 3"
    },
    "language_info": {
      "name": "python"
    }
  },
  "cells": [
    {
      "cell_type": "code",
      "metadata": {
        "colab": {
          "base_uri": "https://localhost:8080/"
        },
        "id": "KBc2OK1vAxeC",
        "outputId": "9aa67a4a-f037-43d9-cf8a-0e34361d405e"
      },
      "source": [
        "!git clone https://github.com/Kalit31/Land-Cover-Analysis.git"
      ],
      "execution_count": 7,
      "outputs": [
        {
          "output_type": "stream",
          "name": "stdout",
          "text": [
            "Cloning into 'Land-Cover-Analysis'...\n",
            "remote: Enumerating objects: 330, done.\u001b[K\n",
            "remote: Counting objects: 100% (13/13), done.\u001b[K\n",
            "remote: Compressing objects: 100% (13/13), done.\u001b[K\n",
            "remote: Total 330 (delta 7), reused 0 (delta 0), pack-reused 317\u001b[K\n",
            "Receiving objects: 100% (330/330), 93.22 MiB | 19.70 MiB/s, done.\n",
            "Resolving deltas: 100% (41/41), done.\n",
            "Checking out files: 100% (266/266), done.\n"
          ]
        }
      ]
    },
    {
      "cell_type": "code",
      "metadata": {
        "colab": {
          "base_uri": "https://localhost:8080/"
        },
        "id": "PtuHp5q-qZWX",
        "outputId": "ff943b8b-76e9-4dd7-988f-694debcac115"
      },
      "source": [
        "ls"
      ],
      "execution_count": 38,
      "outputs": [
        {
          "output_type": "stream",
          "name": "stdout",
          "text": [
            "\u001b[0m\u001b[01;34mimages\u001b[0m/    Report.pdf        \u001b[01;34mSentinel-1-SAR:1-band\u001b[0m/\n",
            "README.md  requirements.txt  \u001b[01;34mSentinel-2-MSI-1C:4-bands\u001b[0m/\n"
          ]
        }
      ]
    },
    {
      "cell_type": "code",
      "metadata": {
        "colab": {
          "base_uri": "https://localhost:8080/"
        },
        "id": "ckw8P0OaqocX",
        "outputId": "fb820615-44b8-4fe1-9bb0-ad77b4f53217"
      },
      "source": [
        "pip install -r requirements.txt"
      ],
      "execution_count": 39,
      "outputs": [
        {
          "output_type": "stream",
          "name": "stdout",
          "text": [
            "Collecting opencv_python==4.2.0.34\n",
            "  Downloading opencv_python-4.2.0.34-cp37-cp37m-manylinux1_x86_64.whl (28.2 MB)\n",
            "\u001b[K     |████████████████████████████████| 28.2 MB 71 kB/s \n",
            "\u001b[?25hCollecting matplotlib==2.1.1\n",
            "  Downloading matplotlib-2.1.1.tar.gz (36.1 MB)\n",
            "\u001b[K     |████████████████████████████████| 36.1 MB 39 kB/s \n",
            "\u001b[?25hCollecting tensorflow_gpu==2.4.0\n",
            "  Downloading tensorflow_gpu-2.4.0-cp37-cp37m-manylinux2010_x86_64.whl (394.7 MB)\n",
            "\u001b[K     |████████████████████████████████| 394.7 MB 11 kB/s \n",
            "\u001b[?25hCollecting scikit_image==0.17.2\n",
            "  Downloading scikit_image-0.17.2-cp37-cp37m-manylinux1_x86_64.whl (12.5 MB)\n",
            "\u001b[K     |████████████████████████████████| 12.5 MB 14 kB/s \n",
            "\u001b[?25hCollecting numpy==1.13.3\n",
            "  Downloading numpy-1.13.3.zip (5.0 MB)\n",
            "\u001b[K     |████████████████████████████████| 5.0 MB 41.7 MB/s \n",
            "\u001b[31mERROR: Could not find a version that satisfies the requirement osgeo==0.0.0 (from versions: 0.0.1)\u001b[0m\n",
            "\u001b[31mERROR: No matching distribution found for osgeo==0.0.0\u001b[0m\n",
            "\u001b[?25h"
          ]
        }
      ]
    },
    {
      "cell_type": "code",
      "metadata": {
        "colab": {
          "base_uri": "https://localhost:8080/"
        },
        "id": "6ZwLhvKxClJe",
        "outputId": "cb1e3791-3264-4147-ed6e-0a4e156523b0"
      },
      "source": [
        "ls"
      ],
      "execution_count": 42,
      "outputs": [
        {
          "output_type": "stream",
          "name": "stdout",
          "text": [
            "check_versions.py              predict_model.py  saveTrainY.py\n",
            "\u001b[0m\u001b[01;32mconvertTo4Bands\u001b[0m*               \u001b[01;34m__pycache__\u001b[0m/      saveValidation.py\n",
            "google-earth-engine.js         README.md         train_unet_model.py\n",
            "image_processing_functions.py  resizeImage.py    unet_model.py\n",
            "\u001b[01;34mimages\u001b[0m/                        RGBOneHotConv.py\n",
            "\u001b[01;34mPredictedOutputs\u001b[0m/              saveTrainX.py\n"
          ]
        }
      ]
    },
    {
      "cell_type": "code",
      "metadata": {
        "id": "SSXIrsxvDIQw"
      },
      "source": [
        "import RGBOneHotConv"
      ],
      "execution_count": 23,
      "outputs": []
    },
    {
      "cell_type": "code",
      "metadata": {
        "id": "9TgyWBhfD1qG"
      },
      "source": [
        "import check_versions"
      ],
      "execution_count": 24,
      "outputs": []
    },
    {
      "cell_type": "code",
      "metadata": {
        "id": "Gs6gVkHbECk0"
      },
      "source": [
        "import image_processing_functions"
      ],
      "execution_count": 25,
      "outputs": []
    },
    {
      "cell_type": "code",
      "metadata": {
        "colab": {
          "base_uri": "https://localhost:8080/"
        },
        "id": "my4v1PXeEfGZ",
        "outputId": "45f08067-369e-487b-a57e-3f968c82fdec"
      },
      "source": [
        "!python predict_model.py"
      ],
      "execution_count": 31,
      "outputs": [
        {
          "output_type": "stream",
          "name": "stdout",
          "text": [
            "2021-09-08 08:37:46.441897: E tensorflow/stream_executor/cuda/cuda_driver.cc:271] failed call to cuInit: CUDA_ERROR_NO_DEVICE: no CUDA-capable device is detected\n",
            "2021-09-08 08:37:46.442043: I tensorflow/stream_executor/cuda/cuda_diagnostics.cc:156] kernel driver does not appear to be running on this host (7634dadc6e25): /proc/driver/nvidia/version does not exist\n",
            "Model: \"model\"\n",
            "__________________________________________________________________________________________________\n",
            "Layer (type)                    Output Shape         Param #     Connected to                     \n",
            "==================================================================================================\n",
            "input_1 (InputLayer)            [(None, None, None,  0                                            \n",
            "__________________________________________________________________________________________________\n",
            "conv2d (Conv2D)                 (None, None, None, 6 640         input_1[0][0]                    \n",
            "__________________________________________________________________________________________________\n",
            "conv2d_1 (Conv2D)               (None, None, None, 6 36928       conv2d[0][0]                     \n",
            "__________________________________________________________________________________________________\n",
            "batch_normalization (BatchNorma (None, None, None, 6 256         conv2d_1[0][0]                   \n",
            "__________________________________________________________________________________________________\n",
            "max_pooling2d (MaxPooling2D)    (None, None, None, 6 0           batch_normalization[0][0]        \n",
            "__________________________________________________________________________________________________\n",
            "conv2d_2 (Conv2D)               (None, None, None, 1 73856       max_pooling2d[0][0]              \n",
            "__________________________________________________________________________________________________\n",
            "conv2d_3 (Conv2D)               (None, None, None, 1 147584      conv2d_2[0][0]                   \n",
            "__________________________________________________________________________________________________\n",
            "batch_normalization_1 (BatchNor (None, None, None, 1 512         conv2d_3[0][0]                   \n",
            "__________________________________________________________________________________________________\n",
            "max_pooling2d_1 (MaxPooling2D)  (None, None, None, 1 0           batch_normalization_1[0][0]      \n",
            "__________________________________________________________________________________________________\n",
            "conv2d_4 (Conv2D)               (None, None, None, 2 295168      max_pooling2d_1[0][0]            \n",
            "__________________________________________________________________________________________________\n",
            "conv2d_5 (Conv2D)               (None, None, None, 2 590080      conv2d_4[0][0]                   \n",
            "__________________________________________________________________________________________________\n",
            "batch_normalization_2 (BatchNor (None, None, None, 2 1024        conv2d_5[0][0]                   \n",
            "__________________________________________________________________________________________________\n",
            "max_pooling2d_2 (MaxPooling2D)  (None, None, None, 2 0           batch_normalization_2[0][0]      \n",
            "__________________________________________________________________________________________________\n",
            "conv2d_6 (Conv2D)               (None, None, None, 5 1180160     max_pooling2d_2[0][0]            \n",
            "__________________________________________________________________________________________________\n",
            "conv2d_7 (Conv2D)               (None, None, None, 5 2359808     conv2d_6[0][0]                   \n",
            "__________________________________________________________________________________________________\n",
            "batch_normalization_3 (BatchNor (None, None, None, 5 2048        conv2d_7[0][0]                   \n",
            "__________________________________________________________________________________________________\n",
            "dropout (Dropout)               (None, None, None, 5 0           batch_normalization_3[0][0]      \n",
            "__________________________________________________________________________________________________\n",
            "max_pooling2d_3 (MaxPooling2D)  (None, None, None, 5 0           dropout[0][0]                    \n",
            "__________________________________________________________________________________________________\n",
            "conv2d_8 (Conv2D)               (None, None, None, 1 4719616     max_pooling2d_3[0][0]            \n",
            "__________________________________________________________________________________________________\n",
            "conv2d_9 (Conv2D)               (None, None, None, 1 9438208     conv2d_8[0][0]                   \n",
            "__________________________________________________________________________________________________\n",
            "batch_normalization_4 (BatchNor (None, None, None, 1 4096        conv2d_9[0][0]                   \n",
            "__________________________________________________________________________________________________\n",
            "dropout_1 (Dropout)             (None, None, None, 1 0           batch_normalization_4[0][0]      \n",
            "__________________________________________________________________________________________________\n",
            "up_sampling2d (UpSampling2D)    (None, None, None, 1 0           dropout_1[0][0]                  \n",
            "__________________________________________________________________________________________________\n",
            "conv2d_10 (Conv2D)              (None, None, None, 5 2097664     up_sampling2d[0][0]              \n",
            "__________________________________________________________________________________________________\n",
            "concatenate (Concatenate)       (None, None, None, 1 0           dropout[0][0]                    \n",
            "                                                                 conv2d_10[0][0]                  \n",
            "__________________________________________________________________________________________________\n",
            "conv2d_11 (Conv2D)              (None, None, None, 5 4719104     concatenate[0][0]                \n",
            "__________________________________________________________________________________________________\n",
            "conv2d_12 (Conv2D)              (None, None, None, 5 2359808     conv2d_11[0][0]                  \n",
            "__________________________________________________________________________________________________\n",
            "batch_normalization_5 (BatchNor (None, None, None, 5 2048        conv2d_12[0][0]                  \n",
            "__________________________________________________________________________________________________\n",
            "up_sampling2d_1 (UpSampling2D)  (None, None, None, 5 0           batch_normalization_5[0][0]      \n",
            "__________________________________________________________________________________________________\n",
            "conv2d_13 (Conv2D)              (None, None, None, 2 524544      up_sampling2d_1[0][0]            \n",
            "__________________________________________________________________________________________________\n",
            "concatenate_1 (Concatenate)     (None, None, None, 5 0           batch_normalization_2[0][0]      \n",
            "                                                                 conv2d_13[0][0]                  \n",
            "__________________________________________________________________________________________________\n",
            "conv2d_14 (Conv2D)              (None, None, None, 2 1179904     concatenate_1[0][0]              \n",
            "__________________________________________________________________________________________________\n",
            "conv2d_15 (Conv2D)              (None, None, None, 2 590080      conv2d_14[0][0]                  \n",
            "__________________________________________________________________________________________________\n",
            "batch_normalization_6 (BatchNor (None, None, None, 2 1024        conv2d_15[0][0]                  \n",
            "__________________________________________________________________________________________________\n",
            "up_sampling2d_2 (UpSampling2D)  (None, None, None, 2 0           batch_normalization_6[0][0]      \n",
            "__________________________________________________________________________________________________\n",
            "conv2d_16 (Conv2D)              (None, None, None, 1 131200      up_sampling2d_2[0][0]            \n",
            "__________________________________________________________________________________________________\n",
            "concatenate_2 (Concatenate)     (None, None, None, 2 0           batch_normalization_1[0][0]      \n",
            "                                                                 conv2d_16[0][0]                  \n",
            "__________________________________________________________________________________________________\n",
            "conv2d_17 (Conv2D)              (None, None, None, 1 295040      concatenate_2[0][0]              \n",
            "__________________________________________________________________________________________________\n",
            "conv2d_18 (Conv2D)              (None, None, None, 1 147584      conv2d_17[0][0]                  \n",
            "__________________________________________________________________________________________________\n",
            "batch_normalization_7 (BatchNor (None, None, None, 1 512         conv2d_18[0][0]                  \n",
            "__________________________________________________________________________________________________\n",
            "up_sampling2d_3 (UpSampling2D)  (None, None, None, 1 0           batch_normalization_7[0][0]      \n",
            "__________________________________________________________________________________________________\n",
            "conv2d_19 (Conv2D)              (None, None, None, 6 32832       up_sampling2d_3[0][0]            \n",
            "__________________________________________________________________________________________________\n",
            "concatenate_3 (Concatenate)     (None, None, None, 1 0           batch_normalization[0][0]        \n",
            "                                                                 conv2d_19[0][0]                  \n",
            "__________________________________________________________________________________________________\n",
            "conv2d_20 (Conv2D)              (None, None, None, 6 73792       concatenate_3[0][0]              \n",
            "__________________________________________________________________________________________________\n",
            "conv2d_21 (Conv2D)              (None, None, None, 6 36928       conv2d_20[0][0]                  \n",
            "__________________________________________________________________________________________________\n",
            "conv2d_22 (Conv2D)              (None, None, None, 1 9232        conv2d_21[0][0]                  \n",
            "__________________________________________________________________________________________________\n",
            "batch_normalization_8 (BatchNor (None, None, None, 1 64          conv2d_22[0][0]                  \n",
            "__________________________________________________________________________________________________\n",
            "conv2d_23 (Conv2D)              (None, None, None, 9 153         batch_normalization_8[0][0]      \n",
            "==================================================================================================\n",
            "Total params: 31,051,497\n",
            "Trainable params: 31,045,705\n",
            "Non-trainable params: 5,792\n",
            "__________________________________________________________________________________________________\n",
            "/content/Land-Cover-Analysis/Sentinel-1-SAR:1-band\n",
            "['PredictedOutputs/Oct-Dec/Processed/3.tif', 'PredictedOutputs/Oct-Dec/Processed/16.tif', 'PredictedOutputs/Oct-Dec/Processed/11.tif', 'PredictedOutputs/Oct-Dec/Processed/9.tif', 'PredictedOutputs/Oct-Dec/Processed/13.tif', 'PredictedOutputs/Oct-Dec/Processed/2.tif', 'PredictedOutputs/Oct-Dec/Processed/17.tif', 'PredictedOutputs/Oct-Dec/Processed/12.tif', 'PredictedOutputs/Oct-Dec/Processed/22.tif', 'PredictedOutputs/Oct-Dec/Processed/5.tif', 'PredictedOutputs/Oct-Dec/Processed/15.tif', 'PredictedOutputs/Oct-Dec/Processed/14.tif', 'PredictedOutputs/Oct-Dec/Processed/23.tif', 'PredictedOutputs/Oct-Dec/Processed/6.tif', 'PredictedOutputs/Oct-Dec/Processed/7.tif', 'PredictedOutputs/Oct-Dec/Processed/20.tif', 'PredictedOutputs/Oct-Dec/Processed/21.tif', 'PredictedOutputs/Oct-Dec/Processed/18.tif', 'PredictedOutputs/Oct-Dec/Processed/1.tif', 'PredictedOutputs/Oct-Dec/Processed/19.tif', 'PredictedOutputs/Oct-Dec/Processed/10.tif', 'PredictedOutputs/Oct-Dec/Processed/4.tif', 'PredictedOutputs/Oct-Dec/Processed/8.tif']\n",
            "['PredictedOutputs/Oct-Dec/Processed/1.tif', 'PredictedOutputs/Oct-Dec/Processed/2.tif', 'PredictedOutputs/Oct-Dec/Processed/3.tif', 'PredictedOutputs/Oct-Dec/Processed/4.tif', 'PredictedOutputs/Oct-Dec/Processed/5.tif', 'PredictedOutputs/Oct-Dec/Processed/6.tif', 'PredictedOutputs/Oct-Dec/Processed/7.tif', 'PredictedOutputs/Oct-Dec/Processed/8.tif', 'PredictedOutputs/Oct-Dec/Processed/9.tif', 'PredictedOutputs/Oct-Dec/Processed/10.tif', 'PredictedOutputs/Oct-Dec/Processed/11.tif', 'PredictedOutputs/Oct-Dec/Processed/12.tif', 'PredictedOutputs/Oct-Dec/Processed/13.tif', 'PredictedOutputs/Oct-Dec/Processed/14.tif', 'PredictedOutputs/Oct-Dec/Processed/15.tif', 'PredictedOutputs/Oct-Dec/Processed/16.tif', 'PredictedOutputs/Oct-Dec/Processed/17.tif', 'PredictedOutputs/Oct-Dec/Processed/18.tif', 'PredictedOutputs/Oct-Dec/Processed/19.tif', 'PredictedOutputs/Oct-Dec/Processed/20.tif', 'PredictedOutputs/Oct-Dec/Processed/21.tif', 'PredictedOutputs/Oct-Dec/Processed/22.tif', 'PredictedOutputs/Oct-Dec/Processed/23.tif']\n",
            "2021-09-08 08:37:51.685178: I tensorflow/compiler/mlir/mlir_graph_optimization_pass.cc:185] None of the MLIR Optimization Passes are enabled (registered 2)\n",
            "Saved...\n",
            "Saved...\n",
            "tcmalloc: large alloc 1656381440 bytes == 0x55f8f77f4000 @  0x7f69ce9501e7 0x7f697b3d2575 0x7f697be63255 0x7f697e9ce17a 0x7f697edbb1d9 0x7f697edbc487 0x7f697edbd479 0x7f697edbf25e 0x7f697edc35b2 0x7f697edc3aef 0x7f697496888b 0x7f6979e67951 0x7f6979e64643 0x7f6974e30bc5 0x7f69ce7056db 0x7f69cd83a71f\n",
            "tcmalloc: large alloc 1472339968 bytes == 0x55f912eb4000 @  0x7f69ce9501e7 0x7f697b3d2575 0x7f697be63255 0x7f697e9ce17a 0x7f697edbb1d9 0x7f697edbc487 0x7f697edbd479 0x7f697edbf25e 0x7f697edc35b2 0x7f697edc3aef 0x7f697496888b 0x7f6979e67951 0x7f6979e64643 0x7f6974e30bc5 0x7f69ce7056db 0x7f69cd83a71f\n",
            "tcmalloc: large alloc 1656381440 bytes == 0x55f902774000 @  0x7f69ce9501e7 0x7f697b3d2575 0x7f697be63255 0x7f697e9ce17a 0x7f697edbb1d9 0x7f697edbc487 0x7f697edbd479 0x7f697edbf25e 0x7f697edc35b2 0x7f697edc3aef 0x7f697496888b 0x7f6979e67951 0x7f6979e64643 0x7f6974e30bc5 0x7f69ce7056db 0x7f69cd83a71f\n",
            "tcmalloc: large alloc 1656381440 bytes == 0x55f8f77f4000 @  0x7f69ce9501e7 0x7f697b3d2575 0x7f697be63255 0x7f697e9ce17a 0x7f697edbb1d9 0x7f697edbc487 0x7f697edbd479 0x7f697edbf25e 0x7f697edc35b2 0x7f697edc3aef 0x7f697496888b 0x7f6979e67951 0x7f6979e64643 0x7f6974e30bc5 0x7f69ce7056db 0x7f69cd83a71f\n",
            "Saved...\n",
            "tcmalloc: large alloc 2491572224 bytes == 0x55f9041a2000 @  0x7f69ce9501e7 0x7f697b3d2575 0x7f697be63255 0x7f697e9ce17a 0x7f697edbb1d9 0x7f697edbc487 0x7f697edbd479 0x7f697edbf25e 0x7f697edc35b2 0x7f697edc3aef 0x7f697496888b 0x7f6979e67951 0x7f6979e64643 0x7f6974e30bc5 0x7f69ce7056db 0x7f69cd83a71f\n",
            "tcmalloc: large alloc 2214731776 bytes == 0x55f92d5a2000 @  0x7f69ce9501e7 0x7f697b3d2575 0x7f697be63255 0x7f697e9ce17a 0x7f697edbb1d9 0x7f697edbc487 0x7f697edbd479 0x7f697edbf25e 0x7f697edc35b2 0x7f697edc3aef 0x7f697496888b 0x7f6979e67951 0x7f6979e64643 0x7f6974e30bc5 0x7f69ce7056db 0x7f69cd83a71f\n",
            "tcmalloc: large alloc 2491572224 bytes == 0x55f9149a2000 @  0x7f69ce9501e7 0x7f697b3d2575 0x7f697be63255 0x7f697e9ce17a 0x7f697edbb1d9 0x7f697edbc487 0x7f697edbd479 0x7f697edbf25e 0x7f697edc35b2 0x7f697edc3aef 0x7f697496888b 0x7f6979e67951 0x7f6979e64643 0x7f6974e30bc5 0x7f69ce7056db 0x7f69cd83a71f\n",
            "tcmalloc: large alloc 2491572224 bytes == 0x55f9041a2000 @  0x7f69ce9501e7 0x7f697b3d2575 0x7f697be63255 0x7f697e9ce17a 0x7f697edbb1d9 0x7f697edbc487 0x7f697edbd479 0x7f697edbf25e 0x7f697edc35b2 0x7f697edc3aef 0x7f697496888b 0x7f6979e67951 0x7f6979e64643 0x7f6974e30bc5 0x7f69ce7056db 0x7f69cd83a71f\n",
            "Saved...\n",
            "tcmalloc: large alloc 2890366976 bytes == 0x55f90e062000 @  0x7f69ce9501e7 0x7f697b3d2575 0x7f697be63255 0x7f697e9ce17a 0x7f697edbb1d9 0x7f697edbc487 0x7f697edbd479 0x7f697edbf25e 0x7f697edc35b2 0x7f697edc3aef 0x7f697496888b 0x7f6979e67951 0x7f6979e64643 0x7f6974e30bc5 0x7f69ce7056db 0x7f69cd83a71f\n",
            "2021-09-08 08:40:08.785502: W tensorflow/core/framework/cpu_allocator_impl.cc:80] Allocation of 642252800 exceeds 10% of free system memory.\n",
            "2021-09-08 08:40:10.576618: W tensorflow/core/framework/cpu_allocator_impl.cc:80] Allocation of 642252800 exceeds 10% of free system memory.\n",
            "Saved...\n",
            "tcmalloc: large alloc 3496632320 bytes == 0x55f918bf4000 @  0x7f69ce9501e7 0x7f697b3d2575 0x7f697be63255 0x7f697e9ce17a 0x7f697edbb1d9 0x7f697edbc487 0x7f697edbd479 0x7f697edbf25e 0x7f697edc35b2 0x7f697edc3aef 0x7f697496888b 0x7f6979e67951 0x7f6979e64643 0x7f6974e30bc5 0x7f69ce7056db 0x7f69cd83a71f\n",
            "2021-09-08 08:41:00.913308: W tensorflow/core/framework/cpu_allocator_impl.cc:80] Allocation of 776994816 exceeds 10% of free system memory.\n",
            "2021-09-08 08:41:02.950241: W tensorflow/core/framework/cpu_allocator_impl.cc:80] Allocation of 776994816 exceeds 10% of free system memory.\n",
            "tcmalloc: large alloc 3496632320 bytes == 0x55f92fe74000 @  0x7f69ce9501e7 0x7f697b3d2575 0x7f697be63255 0x7f697e9ce17a 0x7f697edbb1d9 0x7f697edbc487 0x7f697edbd479 0x7f697edbf25e 0x7f697edc35b2 0x7f697edc3aef 0x7f697496888b 0x7f6979e67951 0x7f6979e64643 0x7f6974e30bc5 0x7f69ce7056db 0x7f69cd83a71f\n",
            "Saved...\n",
            "Saved...\n",
            "2021-09-08 08:43:14.505198: W tensorflow/core/framework/cpu_allocator_impl.cc:80] Allocation of 776994816 exceeds 10% of free system memory.\n",
            "Saved...\n",
            "Saved...\n",
            "Saved...\n",
            "Saved...\n",
            "Saved...\n",
            "tcmalloc: large alloc 4360134656 bytes == 0x55f923628000 @  0x7f69ce9501e7 0x7f697b3d2575 0x7f697be63255 0x7f697e9ce17a 0x7f697edbb1d9 0x7f697edbc487 0x7f697edbd479 0x7f697edbf25e 0x7f697edc35b2 0x7f697edc3aef 0x7f697496888b 0x7f6979e67951 0x7f6979e64643 0x7f6974e30bc5 0x7f69ce7056db 0x7f69cd83a71f\n",
            "Saved...\n",
            "Saved...\n",
            "Saved...\n",
            "Saved...\n",
            "Saved...\n",
            "Saved...\n",
            "Saved...\n",
            "Saved...\n",
            "Saved...\n",
            "Saved...\n",
            "Saved...\n"
          ]
        }
      ]
    },
    {
      "cell_type": "code",
      "metadata": {
        "colab": {
          "base_uri": "https://localhost:8080/"
        },
        "id": "IIIlMY7rSWHV",
        "outputId": "c9fd3789-74c0-4cd2-b3ae-58d24572f603"
      },
      "source": [
        "!python resizeImage.py"
      ],
      "execution_count": 32,
      "outputs": [
        {
          "output_type": "stream",
          "name": "stdout",
          "text": [
            "Satellite SAR images: 23\n",
            "Ground truths: 23\n"
          ]
        }
      ]
    },
    {
      "cell_type": "code",
      "metadata": {
        "colab": {
          "base_uri": "https://localhost:8080/"
        },
        "id": "-lvzewx6fyFN",
        "outputId": "3b2e378c-4c41-457b-f28c-36f2b61a6b10"
      },
      "source": [
        "!python saveTrainX.py"
      ],
      "execution_count": 33,
      "outputs": [
        {
          "output_type": "stream",
          "name": "stdout",
          "text": [
            "23 images found.\n",
            "Saving 21 images.\n",
            "tcmalloc: large alloc 2338848768 bytes == 0x55ea5e8f0000 @  0x7f2d355ee1e7 0x7f2d1941746e 0x7f2d19467c7b 0x7f2d1946ae83 0x7f2d1946b07b 0x7f2d1950c761 0x55ea508100a4 0x55ea5080fda0 0x55ea50884868 0x55ea5087ec35 0x55ea5081173a 0x55ea50883f40 0x55ea5081165a 0x55ea5087fb0e 0x55ea5087ec35 0x55ea5087e933 0x55ea50948402 0x55ea5094877d 0x55ea50948626 0x55ea50920313 0x55ea5091ffbc 0x7f2d343d8bf7 0x55ea5091fe9a\n",
            "Saved Training X\n"
          ]
        }
      ]
    },
    {
      "cell_type": "code",
      "metadata": {
        "colab": {
          "base_uri": "https://localhost:8080/"
        },
        "id": "gtqxtucXhUo0",
        "outputId": "53cce75e-66b2-4206-f833-0ba9ff9ebe0c"
      },
      "source": [
        "!python saveTrainY.py"
      ],
      "execution_count": 43,
      "outputs": [
        {
          "output_type": "stream",
          "name": "stdout",
          "text": [
            "23 images found.\n",
            "Saving 21 images.\n",
            "Traceback (most recent call last):\n",
            "  File \"saveTrainY.py\", line 36, in <module>\n",
            "    filelist_trainy_filtered)\n",
            "  File \"/content/Land-Cover-Analysis/Sentinel-1-SAR:1-band/image_processing_functions.py\", line 149, in getTrainingCroppedImagesMorethan1Band\n",
            "    crops_list = crops(image)\n",
            "  File \"/content/Land-Cover-Analysis/Sentinel-1-SAR:1-band/image_processing_functions.py\", line 111, in crops\n",
            "    a = add_pixels(a, h, w, c, n_h, n_w, crop_size, stride)\n",
            "  File \"/content/Land-Cover-Analysis/Sentinel-1-SAR:1-band/image_processing_functions.py\", line 66, in add_pixels\n",
            "    img_add = np.zeros(((h+h_toadd), (w+w_toadd), c))\n",
            "ValueError: negative dimensions are not allowed\n"
          ]
        }
      ]
    }
  ]
}